{
 "cells": [
  {
   "cell_type": "code",
   "execution_count": 2,
   "id": "1db71a9c",
   "metadata": {},
   "outputs": [],
   "source": [
    "import pandas as pd\n",
    "import matplotlib.pyplot as plt\n",
    "\n",
    "from sklearn.model_selection import train_test_split\n",
    "from sklearn.metrics import accuracy_score\n",
    "from sklearn.metrics import classification_report"
   ]
  },
  {
   "cell_type": "code",
   "execution_count": 18,
   "id": "d4ef1cca",
   "metadata": {},
   "outputs": [
    {
     "data": {
      "text/html": [
       "<div>\n",
       "<style scoped>\n",
       "    .dataframe tbody tr th:only-of-type {\n",
       "        vertical-align: middle;\n",
       "    }\n",
       "\n",
       "    .dataframe tbody tr th {\n",
       "        vertical-align: top;\n",
       "    }\n",
       "\n",
       "    .dataframe thead th {\n",
       "        text-align: right;\n",
       "    }\n",
       "</style>\n",
       "<table border=\"1\" class=\"dataframe\">\n",
       "  <thead>\n",
       "    <tr style=\"text-align: right;\">\n",
       "      <th></th>\n",
       "      <th>id</th>\n",
       "      <th>member_id</th>\n",
       "      <th>loan_amnt</th>\n",
       "      <th>funded_amnt</th>\n",
       "      <th>funded_amnt_inv</th>\n",
       "      <th>term</th>\n",
       "      <th>int_rate</th>\n",
       "      <th>installment</th>\n",
       "      <th>emp_length</th>\n",
       "      <th>home_ownership</th>\n",
       "      <th>...</th>\n",
       "      <th>total_acc</th>\n",
       "      <th>total_pymnt</th>\n",
       "      <th>total_pymnt_inv</th>\n",
       "      <th>total_rec_prncp</th>\n",
       "      <th>total_rec_int</th>\n",
       "      <th>last_pymnt_d</th>\n",
       "      <th>last_pymnt_amnt</th>\n",
       "      <th>next_pymnt_d</th>\n",
       "      <th>last_credit_pull_d</th>\n",
       "      <th>repay_fail</th>\n",
       "    </tr>\n",
       "  </thead>\n",
       "  <tbody>\n",
       "    <tr>\n",
       "      <th>2</th>\n",
       "      <td>2</td>\n",
       "      <td>2</td>\n",
       "      <td>0.0</td>\n",
       "      <td>0.0</td>\n",
       "      <td>0.00000</td>\n",
       "      <td>36 months</td>\n",
       "      <td>0.00</td>\n",
       "      <td>0.00</td>\n",
       "      <td>&lt; 1 year</td>\n",
       "      <td>RENT</td>\n",
       "      <td>...</td>\n",
       "      <td>1.0</td>\n",
       "      <td>0.000000</td>\n",
       "      <td>0.00</td>\n",
       "      <td>0.00</td>\n",
       "      <td>0.00</td>\n",
       "      <td>Jan-07</td>\n",
       "      <td>0.00</td>\n",
       "      <td>Jan-07</td>\n",
       "      <td>Jan-07</td>\n",
       "      <td>1</td>\n",
       "    </tr>\n",
       "    <tr>\n",
       "      <th>3</th>\n",
       "      <td>545583</td>\n",
       "      <td>703644</td>\n",
       "      <td>2500.0</td>\n",
       "      <td>2500.0</td>\n",
       "      <td>2500.00000</td>\n",
       "      <td>36 months</td>\n",
       "      <td>13.98</td>\n",
       "      <td>85.42</td>\n",
       "      <td>4 years</td>\n",
       "      <td>RENT</td>\n",
       "      <td>...</td>\n",
       "      <td>10.0</td>\n",
       "      <td>3075.291779</td>\n",
       "      <td>3075.29</td>\n",
       "      <td>2500.00</td>\n",
       "      <td>575.29</td>\n",
       "      <td>Jul-13</td>\n",
       "      <td>90.85</td>\n",
       "      <td>Aug-13</td>\n",
       "      <td>Jun-16</td>\n",
       "      <td>0</td>\n",
       "    </tr>\n",
       "    <tr>\n",
       "      <th>4</th>\n",
       "      <td>532101</td>\n",
       "      <td>687836</td>\n",
       "      <td>5000.0</td>\n",
       "      <td>5000.0</td>\n",
       "      <td>5000.00000</td>\n",
       "      <td>36 months</td>\n",
       "      <td>15.95</td>\n",
       "      <td>175.67</td>\n",
       "      <td>4 years</td>\n",
       "      <td>RENT</td>\n",
       "      <td>...</td>\n",
       "      <td>15.0</td>\n",
       "      <td>2948.760000</td>\n",
       "      <td>2948.76</td>\n",
       "      <td>1909.02</td>\n",
       "      <td>873.81</td>\n",
       "      <td>Nov-11</td>\n",
       "      <td>175.67</td>\n",
       "      <td>NaN</td>\n",
       "      <td>Mar-12</td>\n",
       "      <td>1</td>\n",
       "    </tr>\n",
       "    <tr>\n",
       "      <th>5</th>\n",
       "      <td>877788</td>\n",
       "      <td>1092507</td>\n",
       "      <td>7000.0</td>\n",
       "      <td>7000.0</td>\n",
       "      <td>7000.00000</td>\n",
       "      <td>36 months</td>\n",
       "      <td>9.91</td>\n",
       "      <td>225.58</td>\n",
       "      <td>10+ years</td>\n",
       "      <td>MORTGAGE</td>\n",
       "      <td>...</td>\n",
       "      <td>20.0</td>\n",
       "      <td>8082.391880</td>\n",
       "      <td>8082.39</td>\n",
       "      <td>7000.00</td>\n",
       "      <td>1082.39</td>\n",
       "      <td>Mar-14</td>\n",
       "      <td>1550.27</td>\n",
       "      <td>NaN</td>\n",
       "      <td>Mar-14</td>\n",
       "      <td>0</td>\n",
       "    </tr>\n",
       "    <tr>\n",
       "      <th>6</th>\n",
       "      <td>875406</td>\n",
       "      <td>1089981</td>\n",
       "      <td>2000.0</td>\n",
       "      <td>2000.0</td>\n",
       "      <td>2000.00000</td>\n",
       "      <td>36 months</td>\n",
       "      <td>5.42</td>\n",
       "      <td>60.32</td>\n",
       "      <td>10+ years</td>\n",
       "      <td>RENT</td>\n",
       "      <td>...</td>\n",
       "      <td>15.0</td>\n",
       "      <td>2161.663244</td>\n",
       "      <td>2161.66</td>\n",
       "      <td>2000.00</td>\n",
       "      <td>161.66</td>\n",
       "      <td>Feb-14</td>\n",
       "      <td>53.12</td>\n",
       "      <td>NaN</td>\n",
       "      <td>Jun-16</td>\n",
       "      <td>0</td>\n",
       "    </tr>\n",
       "    <tr>\n",
       "      <th>...</th>\n",
       "      <td>...</td>\n",
       "      <td>...</td>\n",
       "      <td>...</td>\n",
       "      <td>...</td>\n",
       "      <td>...</td>\n",
       "      <td>...</td>\n",
       "      <td>...</td>\n",
       "      <td>...</td>\n",
       "      <td>...</td>\n",
       "      <td>...</td>\n",
       "      <td>...</td>\n",
       "      <td>...</td>\n",
       "      <td>...</td>\n",
       "      <td>...</td>\n",
       "      <td>...</td>\n",
       "      <td>...</td>\n",
       "      <td>...</td>\n",
       "      <td>...</td>\n",
       "      <td>...</td>\n",
       "      <td>...</td>\n",
       "      <td>...</td>\n",
       "    </tr>\n",
       "    <tr>\n",
       "      <th>38476</th>\n",
       "      <td>849205</td>\n",
       "      <td>1060907</td>\n",
       "      <td>3000.0</td>\n",
       "      <td>3000.0</td>\n",
       "      <td>3000.00000</td>\n",
       "      <td>36 months</td>\n",
       "      <td>11.99</td>\n",
       "      <td>99.63</td>\n",
       "      <td>3 years</td>\n",
       "      <td>RENT</td>\n",
       "      <td>...</td>\n",
       "      <td>22.0</td>\n",
       "      <td>3586.619764</td>\n",
       "      <td>3586.62</td>\n",
       "      <td>3000.00</td>\n",
       "      <td>586.62</td>\n",
       "      <td>Aug-14</td>\n",
       "      <td>100.30</td>\n",
       "      <td>NaN</td>\n",
       "      <td>Jun-16</td>\n",
       "      <td>0</td>\n",
       "    </tr>\n",
       "    <tr>\n",
       "      <th>38477</th>\n",
       "      <td>852914</td>\n",
       "      <td>1065048</td>\n",
       "      <td>10400.0</td>\n",
       "      <td>10400.0</td>\n",
       "      <td>10400.00000</td>\n",
       "      <td>36 months</td>\n",
       "      <td>13.49</td>\n",
       "      <td>352.88</td>\n",
       "      <td>9 years</td>\n",
       "      <td>RENT</td>\n",
       "      <td>...</td>\n",
       "      <td>33.0</td>\n",
       "      <td>12703.534030</td>\n",
       "      <td>12703.53</td>\n",
       "      <td>10400.00</td>\n",
       "      <td>2303.53</td>\n",
       "      <td>Sep-14</td>\n",
       "      <td>393.08</td>\n",
       "      <td>NaN</td>\n",
       "      <td>Jun-16</td>\n",
       "      <td>0</td>\n",
       "    </tr>\n",
       "    <tr>\n",
       "      <th>38478</th>\n",
       "      <td>519553</td>\n",
       "      <td>671637</td>\n",
       "      <td>16000.0</td>\n",
       "      <td>10550.0</td>\n",
       "      <td>10531.35818</td>\n",
       "      <td>60 months</td>\n",
       "      <td>14.96</td>\n",
       "      <td>250.77</td>\n",
       "      <td>10+ years</td>\n",
       "      <td>MORTGAGE</td>\n",
       "      <td>...</td>\n",
       "      <td>25.0</td>\n",
       "      <td>14202.267530</td>\n",
       "      <td>14163.31</td>\n",
       "      <td>10550.00</td>\n",
       "      <td>3652.27</td>\n",
       "      <td>Jun-13</td>\n",
       "      <td>5439.96</td>\n",
       "      <td>NaN</td>\n",
       "      <td>Feb-16</td>\n",
       "      <td>0</td>\n",
       "    </tr>\n",
       "    <tr>\n",
       "      <th>38479</th>\n",
       "      <td>825638</td>\n",
       "      <td>1034448</td>\n",
       "      <td>10000.0</td>\n",
       "      <td>10000.0</td>\n",
       "      <td>10000.00000</td>\n",
       "      <td>36 months</td>\n",
       "      <td>16.89</td>\n",
       "      <td>355.99</td>\n",
       "      <td>1 year</td>\n",
       "      <td>RENT</td>\n",
       "      <td>...</td>\n",
       "      <td>12.0</td>\n",
       "      <td>12815.178320</td>\n",
       "      <td>12815.18</td>\n",
       "      <td>10000.00</td>\n",
       "      <td>2815.18</td>\n",
       "      <td>Aug-14</td>\n",
       "      <td>380.63</td>\n",
       "      <td>NaN</td>\n",
       "      <td>Sep-15</td>\n",
       "      <td>0</td>\n",
       "    </tr>\n",
       "    <tr>\n",
       "      <th>38480</th>\n",
       "      <td>1029847</td>\n",
       "      <td>1249126</td>\n",
       "      <td>3200.0</td>\n",
       "      <td>3200.0</td>\n",
       "      <td>3200.00000</td>\n",
       "      <td>36 months</td>\n",
       "      <td>13.49</td>\n",
       "      <td>108.58</td>\n",
       "      <td>7 years</td>\n",
       "      <td>RENT</td>\n",
       "      <td>...</td>\n",
       "      <td>18.0</td>\n",
       "      <td>3908.767275</td>\n",
       "      <td>3908.77</td>\n",
       "      <td>3200.00</td>\n",
       "      <td>708.77</td>\n",
       "      <td>Dec-14</td>\n",
       "      <td>111.88</td>\n",
       "      <td>NaN</td>\n",
       "      <td>Nov-14</td>\n",
       "      <td>0</td>\n",
       "    </tr>\n",
       "  </tbody>\n",
       "</table>\n",
       "<p>38480 rows × 36 columns</p>\n",
       "</div>"
      ],
      "text/plain": [
       "            id  member_id  loan_amnt  funded_amnt  funded_amnt_inv       term  \\\n",
       "2            2          2        0.0          0.0          0.00000  36 months   \n",
       "3       545583     703644     2500.0       2500.0       2500.00000  36 months   \n",
       "4       532101     687836     5000.0       5000.0       5000.00000  36 months   \n",
       "5       877788    1092507     7000.0       7000.0       7000.00000  36 months   \n",
       "6       875406    1089981     2000.0       2000.0       2000.00000  36 months   \n",
       "...        ...        ...        ...          ...              ...        ...   \n",
       "38476   849205    1060907     3000.0       3000.0       3000.00000  36 months   \n",
       "38477   852914    1065048    10400.0      10400.0      10400.00000  36 months   \n",
       "38478   519553     671637    16000.0      10550.0      10531.35818  60 months   \n",
       "38479   825638    1034448    10000.0      10000.0      10000.00000  36 months   \n",
       "38480  1029847    1249126     3200.0       3200.0       3200.00000  36 months   \n",
       "\n",
       "       int_rate  installment emp_length home_ownership  ...  total_acc  \\\n",
       "2          0.00         0.00   < 1 year           RENT  ...        1.0   \n",
       "3         13.98        85.42    4 years           RENT  ...       10.0   \n",
       "4         15.95       175.67    4 years           RENT  ...       15.0   \n",
       "5          9.91       225.58  10+ years       MORTGAGE  ...       20.0   \n",
       "6          5.42        60.32  10+ years           RENT  ...       15.0   \n",
       "...         ...          ...        ...            ...  ...        ...   \n",
       "38476     11.99        99.63    3 years           RENT  ...       22.0   \n",
       "38477     13.49       352.88    9 years           RENT  ...       33.0   \n",
       "38478     14.96       250.77  10+ years       MORTGAGE  ...       25.0   \n",
       "38479     16.89       355.99     1 year           RENT  ...       12.0   \n",
       "38480     13.49       108.58    7 years           RENT  ...       18.0   \n",
       "\n",
       "        total_pymnt total_pymnt_inv total_rec_prncp total_rec_int  \\\n",
       "2          0.000000            0.00            0.00          0.00   \n",
       "3       3075.291779         3075.29         2500.00        575.29   \n",
       "4       2948.760000         2948.76         1909.02        873.81   \n",
       "5       8082.391880         8082.39         7000.00       1082.39   \n",
       "6       2161.663244         2161.66         2000.00        161.66   \n",
       "...             ...             ...             ...           ...   \n",
       "38476   3586.619764         3586.62         3000.00        586.62   \n",
       "38477  12703.534030        12703.53        10400.00       2303.53   \n",
       "38478  14202.267530        14163.31        10550.00       3652.27   \n",
       "38479  12815.178320        12815.18        10000.00       2815.18   \n",
       "38480   3908.767275         3908.77         3200.00        708.77   \n",
       "\n",
       "      last_pymnt_d last_pymnt_amnt  next_pymnt_d  last_credit_pull_d  \\\n",
       "2           Jan-07            0.00        Jan-07              Jan-07   \n",
       "3           Jul-13           90.85        Aug-13              Jun-16   \n",
       "4           Nov-11          175.67           NaN              Mar-12   \n",
       "5           Mar-14         1550.27           NaN              Mar-14   \n",
       "6           Feb-14           53.12           NaN              Jun-16   \n",
       "...            ...             ...           ...                 ...   \n",
       "38476       Aug-14          100.30           NaN              Jun-16   \n",
       "38477       Sep-14          393.08           NaN              Jun-16   \n",
       "38478       Jun-13         5439.96           NaN              Feb-16   \n",
       "38479       Aug-14          380.63           NaN              Sep-15   \n",
       "38480       Dec-14          111.88           NaN              Nov-14   \n",
       "\n",
       "      repay_fail  \n",
       "2              1  \n",
       "3              0  \n",
       "4              1  \n",
       "5              0  \n",
       "6              0  \n",
       "...          ...  \n",
       "38476          0  \n",
       "38477          0  \n",
       "38478          0  \n",
       "38479          0  \n",
       "38480          0  \n",
       "\n",
       "[38480 rows x 36 columns]"
      ]
     },
     "execution_count": 18,
     "metadata": {},
     "output_type": "execute_result"
    }
   ],
   "source": [
    "df = pd.read_csv(\"../data/Anonymize_Loan_Default_data.csv\")\n",
    "df"
   ]
  },
  {
   "cell_type": "code",
   "execution_count": 11,
   "id": "a4654a61",
   "metadata": {},
   "outputs": [
    {
     "name": "stdout",
     "output_type": "stream",
     "text": [
      "<class 'pandas.core.frame.DataFrame'>\n",
      "Index: 38480 entries, 2 to 38480\n",
      "Data columns (total 36 columns):\n",
      " #   Column                  Non-Null Count  Dtype  \n",
      "---  ------                  --------------  -----  \n",
      " 0   id                      38480 non-null  int64  \n",
      " 1   member_id               38480 non-null  int64  \n",
      " 2   loan_amnt               38479 non-null  float64\n",
      " 3   funded_amnt             38479 non-null  float64\n",
      " 4   funded_amnt_inv         38479 non-null  float64\n",
      " 5   term                    38480 non-null  object \n",
      " 6   int_rate                38480 non-null  float64\n",
      " 7   installment             38479 non-null  float64\n",
      " 8   emp_length              37487 non-null  object \n",
      " 9   home_ownership          38480 non-null  object \n",
      " 10  annual_inc              38478 non-null  float64\n",
      " 11  verification_status     38480 non-null  object \n",
      " 12  issue_d                 38480 non-null  object \n",
      " 13  loan_status             38480 non-null  object \n",
      " 14  purpose                 38480 non-null  object \n",
      " 15  zip_code                38480 non-null  object \n",
      " 16  addr_state              38480 non-null  object \n",
      " 17  dti                     38480 non-null  float64\n",
      " 18  delinq_2yrs             38479 non-null  float64\n",
      " 19  earliest_cr_line        38480 non-null  object \n",
      " 20  inq_last_6mths          38479 non-null  float64\n",
      " 21  mths_since_last_delinq  14117 non-null  float64\n",
      " 22  open_acc                38479 non-null  float64\n",
      " 23  pub_rec                 38479 non-null  float64\n",
      " 24  revol_bal               38476 non-null  float64\n",
      " 25  revol_util              38421 non-null  object \n",
      " 26  total_acc               38479 non-null  float64\n",
      " 27  total_pymnt             38479 non-null  float64\n",
      " 28  total_pymnt_inv         38479 non-null  float64\n",
      " 29  total_rec_prncp         38479 non-null  float64\n",
      " 30  total_rec_int           38479 non-null  float64\n",
      " 31  last_pymnt_d            38409 non-null  object \n",
      " 32  last_pymnt_amnt         38479 non-null  float64\n",
      " 33  next_pymnt_d            3383 non-null   object \n",
      " 34  last_credit_pull_d      38477 non-null  object \n",
      " 35  repay_fail              38480 non-null  int64  \n",
      "dtypes: float64(19), int64(3), object(14)\n",
      "memory usage: 10.9+ MB\n"
     ]
    }
   ],
   "source": [
    "df.info()"
   ]
  },
  {
   "cell_type": "code",
   "execution_count": 22,
   "id": "ab1f5954",
   "metadata": {},
   "outputs": [
    {
     "data": {
      "text/plain": [
       "38480"
      ]
     },
     "execution_count": 22,
     "metadata": {},
     "output_type": "execute_result"
    }
   ],
   "source": [
    "#len(df[\"id\"].unique())\n",
    "len(df[\"member_id\"].unique())"
   ]
  },
  {
   "cell_type": "code",
   "execution_count": 27,
   "id": "1be24f55",
   "metadata": {},
   "outputs": [
    {
     "data": {
      "text/plain": [
       "next_pymnt_d\n",
       "Dec-14    3\n",
       "Feb-15    3\n",
       "Jul-08    3\n",
       "Apr-08    3\n",
       "Jun-14    2\n",
       "Dec-15    2\n",
       "Oct-14    2\n",
       "Jan-08    2\n",
       "Jul-14    2\n",
       "Feb-16    2\n",
       "Aug-14    2\n",
       "Mar-08    2\n",
       "Jan-07    1\n",
       "Jan-99    1\n",
       "May-08    1\n",
       "Feb-08    1\n",
       "Mar-15    1\n",
       "Jun-16    1\n",
       "Dec-07    1\n",
       "Name: count, dtype: int64"
      ]
     },
     "execution_count": 27,
     "metadata": {},
     "output_type": "execute_result"
    }
   ],
   "source": [
    "df[\"next_pymnt_d\"].value_counts()[-20:-1]"
   ]
  },
  {
   "cell_type": "code",
   "execution_count": 28,
   "id": "26b82e75",
   "metadata": {},
   "outputs": [
    {
     "data": {
      "text/plain": [
       "2        Jan-01\n",
       "3        Aug-05\n",
       "4        Apr-94\n",
       "5        Mar-98\n",
       "6        Jan-75\n",
       "          ...  \n",
       "38476    Jan-00\n",
       "38477    Apr-99\n",
       "38478    Dec-95\n",
       "38479    Jul-07\n",
       "38480    Oct-95\n",
       "Name: earliest_cr_line, Length: 38480, dtype: object"
      ]
     },
     "execution_count": 28,
     "metadata": {},
     "output_type": "execute_result"
    }
   ],
   "source": [
    "df[\"earliest_cr_line\"]"
   ]
  },
  {
   "cell_type": "code",
   "execution_count": 29,
   "id": "60c249f6",
   "metadata": {},
   "outputs": [
    {
     "data": {
      "text/plain": [
       "2        �0.00%�\n",
       "3         21.30%\n",
       "4         99.90%\n",
       "5         47.20%\n",
       "6             0%\n",
       "          ...   \n",
       "38476     73.50%\n",
       "38477     39.70%\n",
       "38478     62.20%\n",
       "38479     53.30%\n",
       "38480     62.60%\n",
       "Name: revol_util, Length: 38480, dtype: object"
      ]
     },
     "execution_count": 29,
     "metadata": {},
     "output_type": "execute_result"
    }
   ],
   "source": [
    "df[\"revol_util\"]"
   ]
  },
  {
   "cell_type": "code",
   "execution_count": 31,
   "id": "6769c3ef",
   "metadata": {},
   "outputs": [
    {
     "data": {
      "text/plain": [
       "term\n",
       "36 months    28593\n",
       "60 months     9887\n",
       "Name: count, dtype: int64"
      ]
     },
     "execution_count": 31,
     "metadata": {},
     "output_type": "execute_result"
    }
   ],
   "source": [
    "df[\"term\"].value_counts()"
   ]
  },
  {
   "cell_type": "code",
   "execution_count": 32,
   "id": "d1efcf14",
   "metadata": {},
   "outputs": [
    {
     "data": {
      "text/plain": [
       "emp_length\n",
       "10+ years    8465\n",
       "< 1 year     4565\n",
       "2 years      4292\n",
       "3 years      3939\n",
       "4 years      3314\n",
       "1 year       3254\n",
       "5 years      3171\n",
       "6 years      2144\n",
       "7 years      1702\n",
       "8 years      1445\n",
       "9 years      1196\n",
       "Name: count, dtype: int64"
      ]
     },
     "execution_count": 32,
     "metadata": {},
     "output_type": "execute_result"
    }
   ],
   "source": [
    "df[\"emp_length\"].value_counts()"
   ]
  },
  {
   "cell_type": "code",
   "execution_count": 34,
   "id": "8a2638ca",
   "metadata": {},
   "outputs": [
    {
     "data": {
      "text/plain": [
       "home_ownership\n",
       "RENT        18253\n",
       "MORTGAGE    17140\n",
       "OWN          2958\n",
       "OTHER         125\n",
       "NONE            4\n",
       "Name: count, dtype: int64"
      ]
     },
     "execution_count": 34,
     "metadata": {},
     "output_type": "execute_result"
    }
   ],
   "source": [
    "df[\"home_ownership\"].value_counts()"
   ]
  },
  {
   "cell_type": "code",
   "execution_count": 36,
   "id": "21dd754a",
   "metadata": {},
   "outputs": [
    {
     "data": {
      "text/plain": [
       "verification_status\n",
       "Not Verified       16962\n",
       "Verified           12170\n",
       "Source Verified     9348\n",
       "Name: count, dtype: int64"
      ]
     },
     "execution_count": 36,
     "metadata": {},
     "output_type": "execute_result"
    }
   ],
   "source": [
    "df[\"verification_status\"].value_counts()"
   ]
  },
  {
   "cell_type": "code",
   "execution_count": 37,
   "id": "b9a5ea3e",
   "metadata": {},
   "outputs": [
    {
     "data": {
      "text/plain": [
       "loan_status\n",
       "Fully Paid                                             29987\n",
       "Charged Off                                             5111\n",
       "Does not meet the credit policy. Status:Fully Paid      1782\n",
       "Current                                                  867\n",
       "Does not meet the credit policy. Status:Charged Off      689\n",
       "Late (31-120 days)                                        20\n",
       "In Grace Period                                           15\n",
       "Late (16-30 days)                                          7\n",
       "Default                                                    2\n",
       "Name: count, dtype: int64"
      ]
     },
     "execution_count": 37,
     "metadata": {},
     "output_type": "execute_result"
    }
   ],
   "source": [
    "df[\"loan_status\"].value_counts()"
   ]
  },
  {
   "cell_type": "code",
   "execution_count": 38,
   "id": "ff390ab4",
   "metadata": {},
   "outputs": [
    {
     "data": {
      "text/plain": [
       "purpose\n",
       "debt_consolidation    17917\n",
       "credit_card            4974\n",
       "other                  3950\n",
       "home_improvement       2901\n",
       "major_purchase         2079\n",
       "small_business         1808\n",
       "car                    1481\n",
       "wedding                 909\n",
       "medical                 675\n",
       "moving                  562\n",
       "house                   387\n",
       "educational             386\n",
       "vacation                360\n",
       "renewable_energy         91\n",
       "Name: count, dtype: int64"
      ]
     },
     "execution_count": 38,
     "metadata": {},
     "output_type": "execute_result"
    }
   ],
   "source": [
    "df[\"purpose\"].value_counts()"
   ]
  }
 ],
 "metadata": {
  "kernelspec": {
   "display_name": "LoanDefault",
   "language": "python",
   "name": "python3"
  },
  "language_info": {
   "codemirror_mode": {
    "name": "ipython",
    "version": 3
   },
   "file_extension": ".py",
   "mimetype": "text/x-python",
   "name": "python",
   "nbconvert_exporter": "python",
   "pygments_lexer": "ipython3",
   "version": "3.13.2"
  }
 },
 "nbformat": 4,
 "nbformat_minor": 5
}
